{
 "cells": [
  {
   "cell_type": "code",
   "execution_count": 1,
   "id": "071fa580-3cd7-481f-91bd-1cdf24b6e509",
   "metadata": {},
   "outputs": [],
   "source": [
    "import pandas as pd\n",
    "import numpy as np \n",
    "import matplotlib.pyplot as plt\n",
    "import seaborn as sns\n",
    "import plotly.express as px\n",
    "import pickle\n",
    "\n",
    "from sklearn.model_selection import train_test_split\n",
    "from sklearn.preprocessing import MinMaxScaler\n",
    "from sklearn.preprocessing import OneHotEncoder\n",
    "\n",
    "from sklearn.linear_model import LinearRegression, LogisticRegression\n",
    "from sklearn.ensemble import RandomForestClassifier\n",
    "\n",
    "from sklearn.metrics import mean_squared_error, accuracy_score"
   ]
  },
  {
   "cell_type": "code",
   "execution_count": 2,
   "id": "c22b0cbd-4942-4da7-9f67-19f9ede44696",
   "metadata": {
    "tags": []
   },
   "outputs": [],
   "source": [
    "with open(\"../db/Train_data.pkl\", 'rb') as f:\n",
    "    train_df = pickle.load(f)\n",
    "with open(\"../db/Val_data.pkl\", 'rb') as f:\n",
    "    val_df = pickle.load(f)\n",
    "with open(\"../db/Test_data.pkl\", 'rb') as f:\n",
    "    test_df = pickle.load(f)"
   ]
  },
  {
   "cell_type": "code",
   "execution_count": 3,
   "id": "7eb2ef31-3ee0-49af-8fa3-71a607f3730b",
   "metadata": {
    "tags": []
   },
   "outputs": [],
   "source": [
    "with open(\"../db/Targets_train_data.pkl\", 'rb') as f:\n",
    "    train_targets = pickle.load(f)\n",
    "with open(\"../db/Targets_val_data.pkl\", 'rb') as f:\n",
    "    val_targets = pickle.load(f)\n",
    "with open(\"../db/Targets_test_data.pkl\", 'rb') as f:\n",
    "    test_targets = pickle.load(f)"
   ]
  },
  {
   "cell_type": "code",
   "execution_count": 4,
   "id": "5ca10414-e422-473e-aa79-bac26e4818af",
   "metadata": {},
   "outputs": [],
   "source": [
    "#Модель по выборке случайных чисел\n",
    "def random_stuff(n) -> pd.Series:\n",
    "    rand_numb = np.random.randint(1, high = 100,size = n)\n",
    "    series = pd.Series(rand_numb)\n",
    "    return series"
   ]
  },
  {
   "cell_type": "code",
   "execution_count": 5,
   "id": "de8a6c80-4a27-4b41-8ad7-2a9434a23b2d",
   "metadata": {
    "tags": []
   },
   "outputs": [],
   "source": [
    "#Модель по выборе одних и тех-же чисел\n",
    "def same_stuff(n) -> pd.Series:\n",
    "    rand_numb = np.random.randint(49, high = 50,size = n)\n",
    "    series = pd.Series(rand_numb)\n",
    "    return series"
   ]
  },
  {
   "cell_type": "code",
   "execution_count": 6,
   "id": "d7017c85-7f07-4fba-bac1-e3b1cd58c29d",
   "metadata": {
    "tags": []
   },
   "outputs": [],
   "source": [
    "#Создание базовых моделей\n",
    "pred = random_stuff(250)\n",
    "pred_same = same_stuff(250)"
   ]
  },
  {
   "cell_type": "code",
   "execution_count": 7,
   "id": "e38f421f-381e-4d38-b6ef-a2294caab519",
   "metadata": {
    "tags": []
   },
   "outputs": [
    {
     "name": "stdout",
     "output_type": "stream",
     "text": [
      "0.008\n",
      "0.024\n"
     ]
    }
   ],
   "source": [
    "#Точность моделей\n",
    "print(accuracy_score(pred, val_targets[0]))\n",
    "print(accuracy_score(pred_same, val_targets[0]))"
   ]
  },
  {
   "cell_type": "code",
   "execution_count": 8,
   "id": "43fc0531-9d5e-47f1-98c6-40f0bcf64b61",
   "metadata": {},
   "outputs": [],
   "source": [
    "def train_model():\n",
    "    lr_math = LinearRegression()\n",
    "    lr_read = LinearRegression()\n",
    "    lr_writ = LinearRegression()\n",
    "\n",
    "    lr_math.fit(train_df, train_targets[0])\n",
    "    lr_read.fit(train_df, train_targets[1])\n",
    "    lr_writ.fit(train_df, train_targets[2])\n",
    "    return [lr_math, lr_read, lr_writ]"
   ]
  },
  {
   "cell_type": "code",
   "execution_count": 9,
   "id": "d9699efa-216d-4e7b-a19e-499823c8c58b",
   "metadata": {},
   "outputs": [],
   "source": [
    "def score_modelprint(models):\n",
    "    for i,n in zip(models, [0,1,2]):\n",
    "        match n:\n",
    "            case 0:\n",
    "                print(\" \")\n",
    "                print(\"Оценки по математике\")\n",
    "            case 1:\n",
    "                print(\" \")\n",
    "                print(\"Оценки по чтению\")\n",
    "            case 2:\n",
    "                print(\" \")\n",
    "                print(\"Оценки по письму\")\n",
    "            case _:\n",
    "                action-default\n",
    "        print(i.score(train_df, train_targets[n]))\n",
    "        print(i.score(val_df, val_targets[n]))\n",
    "        print(i.score(test_df, test_targets[n]))\n",
    "        print(mean_squared_error(i.predict(train_df), train_targets[n]))\n",
    "        print(mean_squared_error(i.predict(val_df), val_targets[n]))\n",
    "        print(mean_squared_error(i.predict(test_df), test_targets[n]))"
   ]
  },
  {
   "cell_type": "code",
   "execution_count": 10,
   "id": "31f83252-1474-4e3a-ab9d-eee88e278588",
   "metadata": {},
   "outputs": [],
   "source": [
    "lr_models = train_model()"
   ]
  },
  {
   "cell_type": "code",
   "execution_count": 11,
   "id": "6f44c40f-b9c7-41ee-b430-09144149419e",
   "metadata": {},
   "outputs": [
    {
     "name": "stdout",
     "output_type": "stream",
     "text": [
      " \n",
      "Оценки по математике\n",
      "0.2566821872570897\n",
      "0.20687187179585653\n",
      "0.19296378378060985\n",
      "167.57913213545052\n",
      "195.1283135023452\n",
      "196.38290159688043\n",
      " \n",
      "Оценки по чтению\n",
      "0.2348468251032486\n",
      "0.20761928738818236\n",
      "0.1697100348502001\n",
      "159.82096770114214\n",
      "187.3181538787722\n",
      "187.88164583269426\n",
      " \n",
      "Оценки по письму\n",
      "0.3414892552316702\n",
      "0.30892231272368464\n",
      "0.2641361345059703\n",
      "149.66835419394744\n",
      "177.993316757551\n",
      "177.35568287317793\n"
     ]
    }
   ],
   "source": [
    "score_modelprint(lr_models)"
   ]
  },
  {
   "cell_type": "code",
   "execution_count": 12,
   "id": "089607e8-7f0f-4e73-98d0-cce3960b355f",
   "metadata": {},
   "outputs": [],
   "source": [
    "with open(\"../model/lr_models.pkl\", \"wb\") as f:\n",
    "    pickle.dump(lr_models, f)"
   ]
  }
 ],
 "metadata": {
  "kernelspec": {
   "display_name": "Python 3 (ipykernel)",
   "language": "python",
   "name": "python3"
  },
  "language_info": {
   "codemirror_mode": {
    "name": "ipython",
    "version": 3
   },
   "file_extension": ".py",
   "mimetype": "text/x-python",
   "name": "python",
   "nbconvert_exporter": "python",
   "pygments_lexer": "ipython3",
   "version": "3.11.5"
  }
 },
 "nbformat": 4,
 "nbformat_minor": 5
}
